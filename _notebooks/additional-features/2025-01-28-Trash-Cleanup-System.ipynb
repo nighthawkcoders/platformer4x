{
 "cells": [
  {
   "cell_type": "raw",
   "metadata": {
    "vscode": {
     "languageId": "raw"
    }
   },
   "source": [
    "---\n",
    "author: Cason Pollak\n",
    "layout: post\n",
    "title: Trash Cleanup System\n",
    "description: Lesson on how we implemented a trash cleanup system in order to grow the size of the character in our level.\n",
    "permalink: /additional-features/trash-cleanup-system\n",
    "toc: true\n",
    "comments: true\n",
    "---"
   ]
  },
  {
   "cell_type": "markdown",
   "metadata": {},
   "source": [
    "\n",
    "# <span style=\"color: pink; text-shadow: 2px 2px 5px pink;\">Trash Cleanup System</span>"
   ]
  }
 ],
 "metadata": {
  "language_info": {
   "name": "python"
  }
 },
 "nbformat": 4,
 "nbformat_minor": 2
}
