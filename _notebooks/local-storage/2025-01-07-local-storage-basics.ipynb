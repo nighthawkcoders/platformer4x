{
 "cells": [
  {
   "cell_type": "code",
   "execution_count": null,
   "metadata": {},
   "outputs": [],
   "source": [
    "---\n",
    "layout: post\n",
    "title: Local Storage Basics\n",
    "author: Lucas Masterson\n",
    "description: What the heck is local storage?? A brief overview of the basics.\n",
    "permalink: /local-storage/basics\n",
    "toc: true\n",
    "---"
   ]
  },
  {
   "cell_type": "markdown",
   "metadata": {},
   "source": [
    "# What is Local Storage?\n",
    "\n",
    "Simply put, it's storage... that's local! Thank you, thank you. Lesson over.\n",
    "\n",
    "In all seriousness, it's storage that is hosted locally on the host computer that remains when a browsing session ends. So, for example, maybe I decided to turn off a specific setting on the game site. The idea is that this configuration will persist even after I close the browser session and reopen it.\n",
    "\n",
    "Ok, but WHAT and HOW? Let's get into it.\n",
    "\n",
    "![banana...](https://media1.tenor.com/m/nZjB4sgIeHoAAAAd/d2-destiny-2.gif)"
   ]
  },
  {
   "cell_type": "markdown",
   "metadata": {},
   "source": [
    "# Fair Share of Warnings...\n",
    "\n",
    "Keys and values stored with `localStorage` are *always* UTF-16 string format (2 bytes per char). As such, integer keys are automatically converted to strings.\n",
    "\n",
    "`localStorage` data is **specific to the protocol of the document**. What this means, basically, is that sites loaded using HTTP will differ in `localStorage` for the same site loaded using HTTPS.\n",
    "\n",
    "Documents using `file:` URLs (loaded from the local filesystem, rather than from online) are *volatile*. This probably won't matter for most part here, unless you're serving Jekyll locally for testing, but that should be ok since it won't be in prod.\n",
    "\n",
    "<img src=\"https://i.ytimg.com/vi/Q1sroG_iGnc/maxresdefault.jpg\" alt=\"suggestion\" width=\"300\">"
   ]
  },
  {
   "cell_type": "markdown",
   "metadata": {},
   "source": [
    "# Simple Implementation\n",
    "\n",
    "Here we demonstrate the `Storage` object and add a data item using `Storage.setItem()`:\n",
    "\n",
    "1. Run the program\n",
    "2. Press `Save Data`\n",
    "3. Reload the page\n",
    "4. Press `Load Data`"
   ]
  },
  {
   "cell_type": "markdown",
   "metadata": {},
   "source": [
    "Complete that here:\n",
    "\n",
    "<div>\n",
    "    <button onclick=\"saveData()\">Save Data</button>\n",
    "    <button onclick=\"loadData()\">Load Data</button>\n",
    "    <pre id=\"output\" style=\"border: 1px solid #ccc; padding: 10px; background-color:rgb(15, 15, 15);\"></pre>\n",
    "</div>\n",
    "\n",
    "<script>\n",
    "function saveData() {\n",
    "    localStorage.setItem(\"cat\", \"meow\");\n",
    "    alert(\"Data saved!\");\n",
    "}\n",
    "\n",
    "function loadData() {\n",
    "    const data = localStorage.getItem(\"cat\");\n",
    "    document.getElementById(\"output\").innerText = data ? `Stored data: ${data}` : \"No data found\";\n",
    "}\n",
    "</script>\n"
   ]
  },
  {
   "cell_type": "markdown",
   "metadata": {},
   "source": [
    "<br>"
   ]
  },
  {
   "cell_type": "code",
   "execution_count": 1,
   "metadata": {
    "vscode": {
     "languageId": "html"
    }
   },
   "outputs": [
    {
     "ename": "SyntaxError",
     "evalue": "invalid syntax (464363592.py, line 1)",
     "output_type": "error",
     "traceback": [
      "\u001b[0;36m  Cell \u001b[0;32mIn[1], line 1\u001b[0;36m\u001b[0m\n\u001b[0;31m    <div>\u001b[0m\n\u001b[0m    ^\u001b[0m\n\u001b[0;31mSyntaxError\u001b[0m\u001b[0;31m:\u001b[0m invalid syntax\n"
     ]
    }
   ],
   "source": [
    "<div>\n",
    "    <button onclick=\"saveData()\">Save Data</button>\n",
    "    <button onclick=\"loadData()\">Load Data</button>\n",
    "    <pre id=\"output\" style=\"border: 1px solid #ccc; padding: 10px; background-color:rgb(15, 15, 15);\"></pre>\n",
    "</div>\n",
    "\n",
    "<script>\n",
    "function saveData() {\n",
    "    localStorage.setItem(\"cat\", \"meow\");\n",
    "    alert(\"Data saved!\");\n",
    "}\n",
    "\n",
    "function loadData() {\n",
    "    const data = localStorage.getItem(\"cat\");\n",
    "    document.getElementById(\"output\").innerText = data ? `Stored data: ${data}` : \"No data found\";\n",
    "}\n",
    "</script>"
   ]
  },
  {
   "cell_type": "markdown",
   "metadata": {},
   "source": [
    "Wow! What you just saw there was storing the data item `\"cat\"` and retrieving it *after refreshing the session* via local storage! Oh what possiblities!\n",
    "\n",
    "> The mind is malleable, filled with transient and fleeting ideas. Let us shape it, so that you may see the infinite splendor of the universe."
   ]
  },
  {
   "cell_type": "markdown",
   "metadata": {},
   "source": [
    "# Documentation (bleh)\n",
    "\n",
    "Here I'll give you some documentation that you could probably google, but for the sake of first time learning...\n",
    "\n",
    "**Access the `Storage` object and add a data item**\n",
    "```js\n",
    "localStorage.setItem(\"myCat\", \"Tom\");\n",
    "```\n",
    "\n",
    "**Read a `localStorage` item**\n",
    "```js\n",
    "const cat = localStorage.getItem(\"myCat\");\n",
    "```\n",
    "\n",
    "**Remove a `localStorage` item**\n",
    "```js\n",
    "localStorage.removeItem(\"myCat\");\n",
    "```\n",
    "\n",
    "**Clear all `localStorage` items**\n",
    "```js\n",
    "localStorage.clear();\n",
    "```\n",
    "\n",
    "I really need a macro for code cells :("
   ]
  },
  {
   "cell_type": "markdown",
   "metadata": {},
   "source": [
    "# We are not bound by logic. We define its shape.\n",
    "\n",
    "That's all the basics... basically. Now go do something with this! Orrrrr you could read more documentation. But I digress, you're ready to build local storage functionalities into `platformer#x`.\n",
    "\n",
    "(This is me for context)\n",
    "\n",
    "![cat on pc](https://media1.tenor.com/m/XPRG-4ujVMIAAAAd/cat-work-in-progress.gif)"
   ]
  }
 ],
 "metadata": {
  "kernelspec": {
   "display_name": "Python 3",
   "language": "python",
   "name": "python3"
  },
  "language_info": {
   "codemirror_mode": {
    "name": "ipython",
    "version": 3
   },
   "file_extension": ".py",
   "mimetype": "text/x-python",
   "name": "python",
   "nbconvert_exporter": "python",
   "pygments_lexer": "ipython3",
   "version": "3.12.3"
  }
 },
 "nbformat": 4,
 "nbformat_minor": 2
}
