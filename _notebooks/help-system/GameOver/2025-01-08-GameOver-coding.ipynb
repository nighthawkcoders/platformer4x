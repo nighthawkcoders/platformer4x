{
 "cells": [
  {
   "cell_type": "raw",
   "metadata": {
    "vscode": {
     "languageId": "raw"
    }
   },
   "source": [
    "---\n",
    "author: Shay, Akhil, William\n",
    "layout: post\n",
    "title: GameOver coding \n",
    "description: Understanding the concepts behind GameOver / transitions / and the leaderboard\n",
    "permalink: /GameOverHelp/coding\n",
    "menu: nav/GameOverHelp.html\n",
    "toc: true\n",
    "search_exclude: false\n",
    "---"
   ]
  },
  {
   "cell_type": "markdown",
   "metadata": {},
   "source": [
    "go in depth on how your topic works, how it is implemented, some changes you can make, and how it is important to have in the game"
   ]
  },
  {
   "cell_type": "markdown",
   "metadata": {},
   "source": [
    "## Game Over"
   ]
  },
  {
   "cell_type": "markdown",
   "metadata": {},
   "source": [
    "## Transitions"
   ]
  },
  {
   "cell_type": "markdown",
   "metadata": {},
   "source": [
    "```js\n",
    "async transitionToLevel(newLevel) {\n",
    "        this.inTransition = true;\n",
    "\n",
    "        // Destroy existing game objects\n",
    "        GameEnv.destroy();\n",
    "\n",
    "        // Load GameLevel objects\n",
    "        if (GameEnv.currentLevel !== newLevel) {\n",
    "            GameEnv.claimedCoinIds = [];\n",
    "        }\n",
    "        await newLevel.load();\n",
    "        GameEnv.currentLevel = newLevel;\n",
    "\n",
    "        // Update invert property\n",
    "        GameEnv.setInvert();\n",
    "        \n",
    "        // Trigger a resize to redraw canvas elements\n",
    "        window.dispatchEvent(new Event('resize'));\n",
    "\n",
    "        this.inTransition = false;\n",
    "    },\n",
    "```\n",
    "### How transitionToLevel works\n",
    "\n",
    "The way the game switches your level is found GameConstrol.js (210) wich is activated after colliding with the end point on a map using the \"transitionToLevel()\" function to change levels. At the begining of the function it removes the current level by running GameEnv.destroy() then soon after it resets the collected coins. then it will load the next level with the .load function. then it finsihes this off by setting up the screen wand winsow size\n",
    "\n",
    "\n",
    "GameLevel.js(36)\n",
    "```js\n",
    "async load() {\n",
    "        Socket.removeAllListeners(\"stateUpdate\") //reset Socket Connections\n",
    "        Socket.removeAllListeners(\"disconnection\")\n",
    "        Socket.removeAllListeners(\"leaderboardUpdate\")\n",
    "        // Socket.createListener(\"leaderboardUpdate\",this.handleLeaderboardUpdates)\n",
    "        // Socket.createListener(\"stateUpdate\",this.handleStateUpdates)\n",
    "        Socket.createListener(\"disconnection\",this.handleSocketDisconnect)\n",
    "        try {\n",
    "            var objFile = null;\n",
    "            for (const obj of this.gameObjects) {\n",
    "                if (obj.data.file) {\n",
    "                    // Load the image for the game object.\n",
    "                    objFile = obj.data.file; \n",
    "                    console.log(objFile);\n",
    "                    obj.image = await this.loadImage(obj.data.file);\n",
    "                    // Create a new canvas for the game object.\n",
    "                    const canvas = document.createElement(\"canvas\");\n",
    "                    canvas.id = obj.id;\n",
    "                    document.querySelector(\"#canvasContainer\").appendChild(canvas);\n",
    "                    // Create a new instance of the game object.\n",
    "                    new obj.class(canvas, obj.image, obj.data, obj.xPercentage, obj.yPercentage, obj.name, obj.minPosition);\n",
    "                }\n",
    "            }\n",
    "        } catch (error) {\n",
    "            console.error('Failed to load one or more GameLevel objects: ' + objFile, error);\n",
    "        }\n",
    "    }\n",
    "\n",
    "```\n",
    "### How Level loading works\n",
    "\n",
    "when the load function is ran it will go through every object in a levels object list. With every object it will gather its properties then apply it to the screen creating the objects you see in the level. It will do this for all the objects that is in the levels object array."
   ]
  },
  {
   "cell_type": "markdown",
   "metadata": {},
   "source": [
    "## Leaderboard"
   ]
  }
 ],
 "metadata": {
  "language_info": {
   "name": "python"
  }
 },
 "nbformat": 4,
 "nbformat_minor": 2
}
