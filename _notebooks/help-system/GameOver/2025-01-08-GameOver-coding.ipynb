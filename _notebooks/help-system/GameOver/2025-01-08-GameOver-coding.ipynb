{
 "cells": [
  {
   "cell_type": "raw",
   "metadata": {
    "vscode": {
     "languageId": "raw"
    }
   },
   "source": [
    "---\n",
    "author: Shay, Akhil, William\n",
    "layout: post\n",
    "title: GameOver coding \n",
    "description: Understanding the concepts behind GameOver / transitions / and the leaderboard\n",
    "permalink: /GameOverHelp/coding\n",
    "menu: nav/GameOverHelp.html\n",
    "toc: true\n",
    "search_exclude: false\n",
    "---"
   ]
  },
  {
   "cell_type": "markdown",
   "metadata": {},
   "source": [
    "go in depth on how your topic works, how it is implemented, some changes you can make, and how it is important to have in the game"
   ]
  },
  {
   "cell_type": "markdown",
   "metadata": {},
   "source": [
    "## Game Over"
   ]
  },
  {
   "cell_type": "markdown",
   "metadata": {},
   "source": [
    "## Transitions"
   ]
  },
  {
   "cell_type": "markdown",
   "metadata": {},
   "source": [
    "```js\n",
    "async transitionToLevel(newLevel) {\n",
    "        this.inTransition = true;\n",
    "\n",
    "        // Destroy existing game objects\n",
    "        GameEnv.destroy();\n",
    "\n",
    "        // Load GameLevel objects\n",
    "        if (GameEnv.currentLevel !== newLevel) {\n",
    "            GameEnv.claimedCoinIds = [];\n",
    "        }\n",
    "        await newLevel.load();\n",
    "        GameEnv.currentLevel = newLevel;\n",
    "\n",
    "        // Update invert property\n",
    "        GameEnv.setInvert();\n",
    "        \n",
    "        // Trigger a resize to redraw canvas elements\n",
    "        window.dispatchEvent(new Event('resize'));\n",
    "\n",
    "        this.inTransition = false;\n",
    "    },\n",
    "```\n",
    "### How transitionToLevel works\n",
    "\n",
    "The way the game switches your level is found GameConstrol.js (210) wich is activated after colliding with the end point on a map using the \"transitionToLevel()\" function to change levels. At the begining of the function it removes the current level by running GameEnv.destroy() then soon after it resets the collected coins. then it will load the next level with the .load function. then it finsihes this off by setting up the screen wand winsow size\n",
    "\n",
    "\n",
    "GameLevel.js(36)\n",
    "```js\n",
    "async load() {\n",
    "        Socket.removeAllListeners(\"stateUpdate\") //reset Socket Connections\n",
    "        Socket.removeAllListeners(\"disconnection\")\n",
    "        Socket.removeAllListeners(\"leaderboardUpdate\")\n",
    "        // Socket.createListener(\"leaderboardUpdate\",this.handleLeaderboardUpdates)\n",
    "        // Socket.createListener(\"stateUpdate\",this.handleStateUpdates)\n",
    "        Socket.createListener(\"disconnection\",this.handleSocketDisconnect)\n",
    "        try {\n",
    "            var objFile = null;\n",
    "            for (const obj of this.gameObjects) {\n",
    "                if (obj.data.file) {\n",
    "                    // Load the image for the game object.\n",
    "                    objFile = obj.data.file; \n",
    "                    console.log(objFile);\n",
    "                    obj.image = await this.loadImage(obj.data.file);\n",
    "                    // Create a new canvas for the game object.\n",
    "                    const canvas = document.createElement(\"canvas\");\n",
    "                    canvas.id = obj.id;\n",
    "                    document.querySelector(\"#canvasContainer\").appendChild(canvas);\n",
    "                    // Create a new instance of the game object.\n",
    "                    new obj.class(canvas, obj.image, obj.data, obj.xPercentage, obj.yPercentage, obj.name, obj.minPosition);\n",
    "                }\n",
    "            }\n",
    "        } catch (error) {\n",
    "            console.error('Failed to load one or more GameLevel objects: ' + objFile, error);\n",
    "        }\n",
    "    }\n",
    "\n",
    "```\n",
    "### How Level loading works\n",
    "\n",
    "when the load function is ran it will go through every object in a levels object list. With every object it will gather its properties then apply it to the screen creating the objects you see in the level. It will do this for all the objects that is in the levels object array."
   ]
  },
  {
   "cell_type": "markdown",
   "metadata": {},
   "source": [
    "## Leaderboard"
   ]
  },
  {
   "cell_type": "code",
   "execution_count": null,
   "metadata": {
    "vscode": {
     "languageId": "html"
    }
   },
   "outputs": [],
   "source": [
    "const levelKey = \"level-1-leaderboard\"; // Change this key for different levels\n",
    "        const maxEntries = 10; // Maximum number of entries on the leaderboard\n",
    "\n",
    "        // Load the leaderboard from localStorage\n",
    "        function loadLeaderboard() {\n",
    "            const leaderboard = JSON.parse(localStorage.getItem(levelKey)) || [];\n",
    "            return leaderboard;\n",
    "        }\n",
    "\n",
    "        // Save the leaderboard to localStorage\n",
    "        function saveLeaderboard(leaderboard) {\n",
    "            localStorage.setItem(levelKey, JSON.stringify(leaderboard));\n",
    "        }\n",
    "\n",
    "        // Update the leaderboard UI\n",
    "        function updateLeaderboardUI() {\n",
    "            const leaderboard = loadLeaderboard();\n",
    "            const leaderboardList = document.getElementById(\"leaderboard-list\");\n",
    "            leaderboardList.innerHTML = \"\";\n",
    "\n",
    "            leaderboard.forEach((entry, index) => {\n",
    "                const listItem = document.createElement(\"li\");\n",
    "                listItem.textContent = `${index + 1}. ${entry.name} - ${entry.score}`;\n",
    "                leaderboardList.appendChild(listItem);\n",
    "            });\n",
    "        }\n",
    "\n",
    "        // Add a new score to the leaderboard\n",
    "        function addScore(name, score) {\n",
    "            const leaderboard = loadLeaderboard();\n",
    "            leaderboard.push({ name, score });\n",
    "\n",
    "            // Sort by score (descending) and keep only the top entries\n",
    "            leaderboard.sort((a, b) => b.score - a.score);\n",
    "            if (leaderboard.length > maxEntries) {\n",
    "                leaderboard.length = maxEntries;\n",
    "            }\n",
    "\n",
    "            saveLeaderboard(leaderboard);\n",
    "            updateLeaderboardUI();\n",
    "        }\n",
    "\n",
    "        // Event listener for submitting a new score\n",
    "        document.getElementById(\"submit-score\").addEventListener(\"click\", () => {\n",
    "            const name = document.getElementById(\"player-name\").value.trim();\n",
    "            const score = parseInt(document.getElementById(\"player-score\").value, 10);\n",
    "\n",
    "            if (name && !isNaN(score)) {\n",
    "                addScore(name, score);\n",
    "                document.getElementById(\"player-name\").value = \"\";\n",
    "                document.getElementById(\"player-score\").value = \"\";\n",
    "            } else {\n",
    "                alert(\"Please enter a valid name and score.\");\n",
    "            }\n",
    "        });\n",
    "\n",
    "        // Initialize the leaderboard UI on page load\n",
    "        updateLeaderboardUI();\n",
    "    </script>\n",
    "</body>\n",
    "</html>\n"
   ]
  },
  {
   "cell_type": "markdown",
   "metadata": {},
   "source": [
    "The code above deomonstrated how we can locally incorporate a local stirage leaderboard for user data for every specififc level, and we can incorporate this code into each GameSetter.js file for every level!"
   ]
  },
  {
   "cell_type": "markdown",
   "metadata": {},
   "source": [
    "Features:\n",
    "Local Storage: The leaderboard data is stored in the browser's local storage under a key specific to the level.\n",
    "Sorting: Scores are sorted in descending order to show the highest scores at the top.\n",
    "Limit Entries: The leaderboard displays a maximum of maxEntries scores.\n",
    "Dynamic Updates: The leaderboard updates dynamically whenever a new score is submitted.\n",
    "How to Use:\n",
    "Copy and paste the code into an index.html file.\n",
    "Open the file in your browser.\n",
    "Enter a player's name and score, and click \"Submit Score.\"\n",
    "The leaderboard will display the top scores for the specific game level.\n",
    "You can change the levelKey value (e.g., \"level-2-leaderboard\") for different game levels."
   ]
  },
  {
   "cell_type": "markdown",
   "metadata": {},
   "source": [
    "Currently, the leaderboard is very laggy and doesnt really display user scores or any highs scores very well, I want to scale this idea and also have the highest scores for every local user as well for the current level that they are playing."
   ]
  }
 ],
 "metadata": {
  "language_info": {
   "name": "python"
  }
 },
 "nbformat": 4,
 "nbformat_minor": 2
}
