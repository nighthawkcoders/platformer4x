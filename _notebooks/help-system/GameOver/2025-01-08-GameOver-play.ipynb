{
 "cells": [
  {
   "cell_type": "raw",
   "metadata": {
    "vscode": {
     "languageId": "raw"
    }
   },
   "source": [
    "---\n",
    "author: Shay, Akhil, William\n",
    "layout: post\n",
    "title: GameOver play \n",
    "description: Understanding the concepts behind GameOver / transitions / and the leaderboard\n",
    "permalink: /GameOverHelp/play\n",
    "menu: nav/GameOverHelp.html\n",
    "toc: true\n",
    "search_exclude: false\n",
    "---"
   ]
  },
  {
   "cell_type": "markdown",
   "metadata": {},
   "source": [
    "create snippets of code that that can be changed and played with to teach how your topic works with hands on changes"
   ]
  },
  {
   "cell_type": "markdown",
   "metadata": {},
   "source": [
    "Game Over"
   ]
  },
  {
   "cell_type": "markdown",
   "metadata": {},
   "source": [
    "## Transitions"
   ]
  },
  {
   "cell_type": "markdown",
   "metadata": {},
   "source": [
    "You can add checks before the level transition to make requrments needed to procead to the next level"
   ]
  },
  {
   "cell_type": "code",
   "execution_count": null,
   "metadata": {
    "vscode": {
     "languageId": "javascript"
    }
   },
   "outputs": [],
   "source": [
    "            %%js\n",
    "            //add checks here\n",
    "\n",
    "                // Transition to the next level when touching the flag\n",
    "                const index = GameEnv.levels.findIndex(level => level.tag === \"Water\")\n",
    "                GameControl.transitionToLevel(GameEnv.levels[index]);\n",
    "\n",
    "//errors will occur as there is no such thing as GameEnv in this example"
   ]
  },
  {
   "cell_type": "markdown",
   "metadata": {},
   "source": [
    "Transitions are a very important game futrue as it allows the made levels to alternate after finishing a level.\n",
    "Look at the code below and play around with it in your game to see what breaks it, how it breaks, and ways it could possible be imporved.\n",
    "(found in  gameControl.js 210)"
   ]
  },
  {
   "cell_type": "code",
   "execution_count": null,
   "metadata": {
    "vscode": {
     "languageId": "javascript"
    }
   },
   "outputs": [],
   "source": [
    "%%js\n",
    "async transitionToLevel(newLevel) {\n",
    "    this.inTransition = true;\n",
    "\n",
    "    // Destroy existing game objects\n",
    "    GameEnv.destroy();\n",
    "\n",
    "    // Load GameLevel objects\n",
    "    if (GameEnv.currentLevel !== newLevel) {\n",
    "        GameEnv.claimedCoinIds = [];\n",
    "    }\n",
    "    await newLevel.load();\n",
    "    GameEnv.currentLevel = newLevel;\n",
    "\n",
    "    // Update invert property\n",
    "    GameEnv.setInvert();\n",
    "    \n",
    "    // Trigger a resize to redraw canvas elements\n",
    "    window.dispatchEvent(new Event('resize'));\n",
    "\n",
    "    this.inTransition = false;\n",
    "}\n",
    "\n",
    "//might err if ran inside the nb"
   ]
  },
  {
   "cell_type": "markdown",
   "metadata": {},
   "source": [
    "Leaderboard"
   ]
  }
 ],
 "metadata": {
  "language_info": {
   "name": "python"
  }
 },
 "nbformat": 4,
 "nbformat_minor": 2
}
