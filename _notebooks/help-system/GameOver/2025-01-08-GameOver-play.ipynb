{
 "cells": [
  {
   "cell_type": "raw",
   "metadata": {
    "vscode": {
     "languageId": "raw"
    }
   },
   "source": [
    "---\n",
    "author: Shay, Akhil, William\n",
    "layout: post\n",
    "title: GameOver play \n",
    "description: Understanding the concepts behind GameOver / transitions / and the leaderboard\n",
    "permalink: /GameOverHelp/play\n",
    "menu: nav/GameOverHelp.html\n",
    "toc: true\n",
    "search_exclude: false\n",
    "---"
   ]
  },
  {
   "cell_type": "markdown",
   "metadata": {},
   "source": [
    "create snippets of code that that can be changed and played with to teach how your topic works with hands on changes"
   ]
  },
  {
   "cell_type": "markdown",
   "metadata": {},
   "source": [
    "## Game Over"
   ]
  },
  {
   "cell_type": "markdown",
   "metadata": {},
   "source": [
    "## Transitions"
   ]
  },
  {
   "cell_type": "markdown",
   "metadata": {},
   "source": [
    "You can add checks before the level transition to make requrments needed to procead to the next level"
   ]
  },
  {
   "cell_type": "code",
   "execution_count": null,
   "metadata": {
    "vscode": {
     "languageId": "javascript"
    }
   },
   "outputs": [],
   "source": [
    "            %%js\n",
    "            //add checks here\n",
    "\n",
    "                // Transition to the next level when touching the flag\n",
    "                const index = GameEnv.levels.findIndex(level => level.tag === \"Water\")\n",
    "                GameControl.transitionToLevel(GameEnv.levels[index]);\n",
    "\n",
    "//errors will occur as there is no such thing as GameEnv in this example"
   ]
  },
  {
   "cell_type": "markdown",
   "metadata": {},
   "source": [
    "Transitions are a very important game futrue as it allows the made levels to alternate after finishing a level.\n",
    "Look at the code below and play around with it in your game to see what breaks it, how it breaks, and ways it could possible be imporved.\n",
    "(found in  gameControl.js 210)"
   ]
  },
  {
   "cell_type": "code",
   "execution_count": null,
   "metadata": {
    "vscode": {
     "languageId": "javascript"
    }
   },
   "outputs": [],
   "source": [
    "%%js\n",
    "async transitionToLevel(newLevel) {\n",
    "    this.inTransition = true;\n",
    "\n",
    "    // Destroy existing game objects\n",
    "    GameEnv.destroy();\n",
    "\n",
    "    // Load GameLevel objects\n",
    "    if (GameEnv.currentLevel !== newLevel) {\n",
    "        GameEnv.claimedCoinIds = [];\n",
    "    }\n",
    "    await newLevel.load();\n",
    "    GameEnv.currentLevel = newLevel;\n",
    "\n",
    "    // Update invert property\n",
    "    GameEnv.setInvert();\n",
    "    \n",
    "    // Trigger a resize to redraw canvas elements\n",
    "    window.dispatchEvent(new Event('resize'));\n",
    "\n",
    "    this.inTransition = false;\n",
    "}\n",
    "\n",
    "//might err if ran inside the nb"
   ]
  },
  {
   "cell_type": "markdown",
   "metadata": {},
   "source": [
    "## Leaderboard"
   ]
  },
  {
   "cell_type": "markdown",
   "metadata": {},
   "source": [
    "I have some cool ideas to improve the code for the current leaderboard and some started code for each to help contribute to that!"
   ]
  },
  {
   "cell_type": "code",
   "execution_count": null,
   "metadata": {
    "vscode": {
     "languageId": "javascript"
    }
   },
   "outputs": [],
   "source": [
    "sortLeaderboard(entries) {\n",
    "    return entries.sort((a, b) => {\n",
    "        // Sort by time (ascending), then by score (descending)\n",
    "        if (a.time === b.time) {\n",
    "            return b.score - a.score; // Higher score first if times are equal\n",
    "        }\n",
    "        return a.time - b.time; // Shorter time first\n",
    "    });\n",
    "},\n",
    "getAllTimes() {\n",
    "    let timeTable = localStorage.getItem(this.localStorageTimeKey);\n",
    "    if (!timeTable) return [];\n",
    "    const parsedTable = JSON.parse(timeTable);\n",
    "\n",
    "    // Sort the leaderboard before returning\n",
    "    return this.sortLeaderboard(parsedTable);\n",
    "},\n"
   ]
  },
  {
   "cell_type": "markdown",
   "metadata": {},
   "source": [
    "Idea 2: Add Date Stamps and Display Recent Achievements\n",
    "Add a date field to each entry to show when the score was achieved. Filter and display only scores achieved within the last 7 days.\n",
    "\n",
    "Implementation:\n",
    "\n",
    "Modify the saveTime() method to include a timestamp.\n",
    "Add a getRecentTimes() method to filter scores by date."
   ]
  },
  {
   "cell_type": "code",
   "execution_count": null,
   "metadata": {
    "vscode": {
     "languageId": "javascript"
    }
   },
   "outputs": [],
   "source": [
    "saveTime(time, score) {\n",
    "    if (time === 0) return;\n",
    "    const data = {\n",
    "        userID: GameEnv.userID,\n",
    "        time: time,\n",
    "        score: score,\n",
    "        date: new Date().toISOString(), // Add current timestamp\n",
    "    };\n",
    "\n",
    "    const oldTable = this.getAllTimes() || [];\n",
    "    oldTable.push(data);\n",
    "\n",
    "    localStorage.setItem(this.localStorageTimeKey, JSON.stringify(oldTable));\n",
    "},\n",
    "getRecentTimes() {\n",
    "    const allTimes = this.getAllTimes();\n",
    "    const oneWeekAgo = new Date();\n",
    "    oneWeekAgo.setDate(oneWeekAgo.getDate() - 7);\n",
    "\n",
    "    // Filter scores achieved within the last 7 days\n",
    "    return allTimes.filter(entry => new Date(entry.date) >= oneWeekAgo);\n",
    "},\n"
   ]
  },
  {
   "cell_type": "markdown",
   "metadata": {},
   "source": [
    "Create a Leaderboard Summary Display\n",
    "Provide a leaderboard summary that includes the top score, average time, and total players. This gives users insights into their performance relative to others.\n",
    "\n",
    "Implementation:\n",
    "\n",
    "Add a getLeaderboardSummary() method.\n",
    "Calculate key statistics like average time, top score, and player count."
   ]
  },
  {
   "cell_type": "code",
   "execution_count": null,
   "metadata": {
    "vscode": {
     "languageId": "javascript"
    }
   },
   "outputs": [],
   "source": [
    "getLeaderboardSummary() {\n",
    "    const allTimes = this.getAllTimes();\n",
    "    if (allTimes.length === 0) return null;\n",
    "\n",
    "    const totalPlayers = allTimes.length;\n",
    "    const topScore = Math.max(...allTimes.map(entry => entry.score));\n",
    "    const averageTime = (allTimes.reduce((sum, entry) => sum + entry.time, 0) / totalPlayers).toFixed(2);\n",
    "\n",
    "    return {\n",
    "        totalPlayers,\n",
    "        topScore,\n",
    "        averageTime,\n",
    "    };\n",
    "},\n",
    "displayLeaderboardSummary() {\n",
    "    const summary = this.getLeaderboardSummary();\n",
    "    if (!summary) {\n",
    "        console.log(\"No leaderboard data available.\");\n",
    "        return;\n",
    "    }\n",
    "\n",
    "    console.log(`Total Players: ${summary.totalPlayers}`);\n",
    "    console.log(`Top Score: ${summary.topScore}`);\n",
    "    console.log(`Average Time: ${summary.averageTime} ms`);\n",
    "}\n"
   ]
  },
  {
   "cell_type": "markdown",
   "metadata": {},
   "source": [
    "Bonus: Improve User Experience\n",
    "Add these features to the UI using DOM manipulation (e.g., a dynamic leaderboard table).\n",
    "Allow users to filter by specific criteria (e.g., top scores or recent achievements)."
   ]
  }
 ],
 "metadata": {
  "language_info": {
   "name": "python"
  }
 },
 "nbformat": 4,
 "nbformat_minor": 2
}
