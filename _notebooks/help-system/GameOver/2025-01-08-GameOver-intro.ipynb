{
 "cells": [
  {
   "cell_type": "raw",
   "metadata": {
    "vscode": {
     "languageId": "raw"
    }
   },
   "source": [
    "---\n",
    "author: Shay, Akhil, William\n",
    "layout: post\n",
    "title: GameOver intro \n",
    "description: Understanding the concepts behind GameOver / transitions / and the leaderboard\n",
    "permalink: /GameOverHelp/intro\n",
    "menu: nav/GameOverHelp.html\n",
    "toc: true\n",
    "search_exclude: false\n",
    "---"
   ]
  },
  {
   "cell_type": "markdown",
   "metadata": {},
   "source": [
    "Explain what your topic is and how it is being used in the game/ what it is"
   ]
  },
  {
   "cell_type": "markdown",
   "metadata": {},
   "source": [
    "## Game Over\n"
   ]
  },
  {
   "cell_type": "markdown",
   "metadata": {},
   "source": [
    "## Transitions\n",
    "\n",
    "\n"
   ]
  },
  {
   "cell_type": "markdown",
   "metadata": {},
   "source": [
    "Transitions are how the game switches you from your current level to the next level or a selected level if you are using the level select menu\n",
    "\n",
    "Upon reaching the end of a level you will trigger a function that will update the current level and switch to the next level\n",
    "(code below)\n",
    "```js\n",
    "            if (currentLevel) {\n",
    "                // run the isComplete callback function\n",
    "                if (currentLevel.isComplete && currentLevel.isComplete()) {\n",
    "                    const currentIndex = GameEnv.levels.indexOf(currentLevel);\n",
    "                    // next index is in bounds\n",
    "                    if (currentIndex !== -1 && currentIndex + 1 < GameEnv.levels.length) {\n",
    "                        // transition to the next level\n",
    "                        this.transitionToLevel(GameEnv.levels[currentIndex + 1]);\n",
    "                    } \n",
    "                }\n",
    "```\n",
    "\n",
    "In the code below you can see how the function works by removing all the objects on the screen and adds the objects for the next level which is found inside the levels object array\n",
    "(code below)\n",
    "```js\n",
    "async transitionToLevel(newLevel) {\n",
    "        this.inTransition = true;\n",
    "\n",
    "        // Destroy existing game objects\n",
    "        GameEnv.destroy();\n",
    "\n",
    "        // Load GameLevel objects\n",
    "        if (GameEnv.currentLevel !== newLevel) {\n",
    "            GameEnv.claimedCoinIds = [];\n",
    "        }\n",
    "        await newLevel.load();\n",
    "        GameEnv.currentLevel = newLevel;\n",
    "\n",
    "        // Update invert property\n",
    "        GameEnv.setInvert();\n",
    "        \n",
    "        // Trigger a resize to redraw canvas elements\n",
    "        window.dispatchEvent(new Event('resize'));\n",
    "\n",
    "        this.inTransition = false;\n",
    "    }\n",
    "```"
   ]
  },
  {
   "cell_type": "markdown",
   "metadata": {},
   "source": [
    "## Leaderboard"
   ]
  },
  {
   "cell_type": "code",
   "execution_count": null,
   "metadata": {
    "vscode": {
     "languageId": "javascript"
    }
   },
   "outputs": [],
   "source": [
    "const data = {\n",
    "    userID: GameEnv.userID,\n",
    "    time: GameEnv.time - 10, // Adjusted time\n",
    "    coinScore: GameEnv.coinScore,\n",
    "    date: Date(),\n",
    "    gameSpeed: GameEnv.gameSpeed,\n",
    "    difficulty: GameEnv.difficulty\n",
    "};\n",
    "\n",
    "const currDataList = JSON.parse(localStorage.getItem(this.localStorageTimeKey));\n",
    "\n",
    "if (!currDataList || !Array.isArray(currDataList)) {\n",
    "    localStorage.setItem(this.localStorageTimeKey, JSON.stringify([data]));\n",
    "} else {\n",
    "    currDataList.push(data);\n",
    "    localStorage.setItem(this.localStorageTimeKey, JSON.stringify(currDataList));\n",
    "}\n"
   ]
  },
  {
   "cell_type": "markdown",
   "metadata": {},
   "source": [
    "The leaderboard functionality in this code is indirectly implemented through the saveTime() and getAllTimes() methods. These methods interact with localStorage to persist and retrieve player performance data, such as time, score, and other metadata. Here's how it works:\n",
    "\n",
    "1. Saving Data for the Leaderboard\n",
    "The saveTime() method is responsible for storing the player's game performance data:\n",
    "\n",
    "Inputs: Time (GameEnv.time), score (GameEnv.coinScore), and additional information like user ID, game speed, difficulty, and date.\n",
    "Steps:\n",
    "Constructs an object (data) representing the player's game session.\n",
    "Fetches the current leaderboard data from localStorage using the key localStorageTimeKey.\n",
    "If no previous data exists, initializes a new array with the current game session.\n",
    "Appends the new game session data to the existing leaderboard data.\n",
    "Updates localStorage with the updated leaderboard data.\n",
    "javascript\n",
    "\n"
   ]
  }
 ],
 "metadata": {
  "language_info": {
   "name": "python"
  }
 },
 "nbformat": 4,
 "nbformat_minor": 2
}
