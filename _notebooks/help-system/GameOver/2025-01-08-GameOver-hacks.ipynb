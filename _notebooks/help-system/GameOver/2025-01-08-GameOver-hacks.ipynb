{
 "cells": [
  {
   "cell_type": "raw",
   "metadata": {
    "vscode": {
     "languageId": "raw"
    }
   },
   "source": [
    "---\n",
    "author: Shay, Akhil, William\n",
    "layout: post\n",
    "title: GameOver hacks \n",
    "description: Understanding the concepts behind GameOver / transitions / and the leaderboard\n",
    "permalink: /GameOverHelp/hacks\n",
    "menu: nav/GameOverHelp.html\n",
    "toc: true\n",
    "search_exclude: false\n",
    "---"
   ]
  },
  {
   "cell_type": "markdown",
   "metadata": {},
   "source": [
    "make hacks that will change the game in small ways based off of your topic"
   ]
  },
  {
   "cell_type": "markdown",
   "metadata": {},
   "source": [
    "## Game Over"
   ]
  },
  {
   "cell_type": "markdown",
   "metadata": {},
   "source": [
    "## Transitions"
   ]
  },
  {
   "cell_type": "markdown",
   "metadata": {},
   "source": [
    "Make a sound effect play when reaching the end of the level :)"
   ]
  },
  {
   "cell_type": "markdown",
   "metadata": {},
   "source": [
    "## Leaderboard"
   ]
  }
 ],
 "metadata": {
  "language_info": {
   "name": "python"
  }
 },
 "nbformat": 4,
 "nbformat_minor": 2
}
