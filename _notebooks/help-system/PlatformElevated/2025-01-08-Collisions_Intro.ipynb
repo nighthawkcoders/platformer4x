{
 "cells": [
  {
   "cell_type": "raw",
   "metadata": {},
   "source": [
    "---\n",
    "layout: post\n",
    "title: Collision intro\n",
    "description: In the intro we will be learning how we can detect collisions in the platformer game and how it applied.\n",
    "permalink: help-system/platform-elevated/collisions-intro\n",
    "toc: true\n",
    "comments: true\n",
    "authors: Srinaga Pillutla\n",
    "---\n",
    "\n"
   ]
  },
  {
   "cell_type": "raw",
   "metadata": {
    "vscode": {
     "languageId": "raw"
    }
   },
   "source": [
    "What is Collisons?\n",
    "- collisons are used to detect when two objects are touching, and to make them react accordingly. for example, when a player character touches a wall,\n",
    " - collison is detected, and the player character is stopped from moving through the wall.\n",
    "- collisons are an important part of game development, as they help to create a sense of realism and immersion in the game world."
   ]
  },
  {
   "cell_type": "code",
   "execution_count": null,
   "metadata": {
    "vscode": {
     "languageId": "javascript"
    }
   },
   "outputs": [],
   "source": [
    "%%html\n",
    "if (this.collisionData.touchPoints.other.id === \"jumpPlatform\") {\n",
    "    // Collision with the left side of the Platform\n",
    "    console.log(\"id\");\n",
    "    if (this.collisionData.touchPoints.other.left && this.topOfPlatform) {\n",
    "        this.movement.right = false;\n",
    "        console.log(\"a\");\n",
    "    }\n",
    "    // Collision with the right side of the platform\n",
    "    if (this.collisionData.touchPoints.other.right && this.topOfPlatform) {\n",
    "        this.movement.left = false;\n",
    "        console.log(\"b\");\n",
    "    }\n",
    "    // Collision with the top of the player\n",
    "    if (this.collisionData.touchPoints.this.ontop) {\n",
    "        this.gravityEnabled = false;\n",
    "        console.log(\"c\");\n",
    "    }\n",
    "    if (this.collisionData.touchPoints.this.bottom) {\n",
    "        this.gravityEnabled = false;\n",
    "        console.log(\"d\");\n",
    "    }\n",
    "    if (this.collisionData.touchPoints.this.top) {\n",
    "        this.gravityEnabled = false;\n",
    "        this.topOfPlatform = true;\n",
    "        console.log(`${this.topOfPlatform} top`);\n",
    "        console.log(`${this.gravityEnabled} grav`);\n",
    "    }\n",
    "}"
   ]
  }
 ],
 "metadata": {
  "language_info": {
   "name": "python"
  }
 },
 "nbformat": 4,
 "nbformat_minor": 2
}
