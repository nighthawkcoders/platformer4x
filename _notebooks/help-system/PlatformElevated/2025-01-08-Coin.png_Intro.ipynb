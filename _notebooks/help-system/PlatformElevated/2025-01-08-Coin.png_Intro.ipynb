{
 "cells": [
  {
   "cell_type": "raw",
   "metadata": {
    "vscode": {
     "languageId": "raw"
    }
   },
   "source": [
    "---\n",
    "layout: post\n",
    "title: Coin_PNG intro \n",
    "description: we explain the PNG format and how to use it in Coin or any other png\n",
    "permalink: help-system/platform-elevated/Coin png-intro\n",
    "toc: true\n",
    "comments: true\n",
    "authors: Srinaga Pillutla\n",
    "---\n",
    "\n",
    "\n"
   ]
  },
  {
   "cell_type": "markdown",
   "metadata": {},
   "source": [
    "# <span style=\"color: pink; text-shadow: 2px 2px 5px pink;\">How to add coin.png or any type of png</span>"
   ]
  },
  {
   "cell_type": "markdown",
   "metadata": {
    "vscode": {
     "languageId": "raw"
    }
   },
   "source": [
    "## <span style=\"color: pink; text-shadow: 2px 2px 5px pink;\">In order to add any type of coin or any type of png DO the following steps:\n",
    "- First, you need to create a new folder in the assets folder and name it as coins or diamonds.\n",
    "-  then you need to add the image of the coin or diamond in the folder you created.\n",
    "-  then you need to add the following code in the assets or in the game file or create one if you don't have one.\n",
    "- then you need to define in Gamesetter.js or any file you want to use it in.</span>\n"
   ]
  },
  {
   "cell_type": "code",
   "execution_count": 2,
   "metadata": {
    "vscode": {
     "languageId": "javascript"
    }
   },
   "outputs": [
    {
     "data": {
      "text/html": [
       "// Assuming you have already created a folder named 'diamonds' in the 'assets' folder and added 'diamond.png' in it\n",
       "\n",
       "// Load the diamond image in your game\n",
       "function preload() {\n",
       "    this.load.image('diamond', 'assets/diamonds/diamond.png');\n",
       "}\n",
       "\n",
       "// Create the diamond sprite in your game\n",
       "function create() {\n",
       "    this.add.sprite(100, 100, 'diamond');\n",
       "}\n",
       "\n",
       "// Add the preload and create functions to your game configuration\n",
       "var config = {\n",
       "    type: Phaser.AUTO,\n",
       "    width: 800,\n",
       "    height: 600,\n",
       "    scene: {\n",
       "        preload: preload,\n",
       "        create: create\n",
       "    }\n",
       "};\n",
       "\n",
       "var game = new Phaser.Game(config);\n"
      ],
      "text/plain": [
       "<IPython.core.display.HTML object>"
      ]
     },
     "metadata": {},
     "output_type": "display_data"
    }
   ],
   "source": [
    "%%html \n",
    "// Assuming you have already created a folder named 'diamonds' in the 'assets' folder and added 'diamond.png' in it\n",
    "\n",
    "// Load the diamond image in your game\n",
    "function preload() {\n",
    "    this.load.image('diamond', 'assets/diamonds/diamond.png');\n",
    "}\n",
    "\n",
    "// Create the diamond sprite in your game\n",
    "function create() {\n",
    "    this.add.sprite(100, 100, 'diamond');\n",
    "}\n",
    "\n",
    "// Add the preload and create functions to your game configuration\n",
    "var config = {\n",
    "    type: Phaser.AUTO,\n",
    "    width: 800,\n",
    "    height: 600,\n",
    "    scene: {\n",
    "        preload: preload,\n",
    "        create: create\n",
    "    }\n",
    "};\n",
    "\n",
    "var game = new Phaser.Game(config);"
   ]
  },
  {
   "cell_type": "markdown",
   "metadata": {},
   "source": [
    "# <span style=\"color: blue; text-shadow: 2px 2px 5px pink;\">explantaion </span> \n",
    "\n",
    "The preload function is responsible for loading game assets before the game starts. In this case, it loads an image named 'diamond' from the specified path. This ensures that the image is available when needed in the game.\n",
    "Create Function:\n",
    "\n",
    "The create function is called after the assets are loaded. It creates a sprite (a 2D image) at specific coordinates (100, 100) using the 'diamond' image loaded in the preload function. This sprite will be part of the game scene.\n",
    "Game Configuration:\n",
    "\n",
    "The config object defines the configuration for the game, including the renderer type (WebGL or Canvas), the dimensions of the game canvas (800x600), and the scene configuration, which includes the preload and create functions.\n",
    "Game Initialization:\n",
    "\n",
    "The game is initialized with the specified configuration, creating a new Phaser game instance"
   ]
  },
  {
   "cell_type": "markdown",
   "metadata": {},
   "source": [
    "## <span style=\"color: pink; text-shadow: 2px 2px 5px pink;\">Application into a game explanation </span>"
   ]
  },
  {
   "cell_type": "markdown",
   "metadata": {},
   "source": [
    "Applying to a Game\n",
    "\n",
    "\n",
    "This code is part of setting up a basic game using the Phaser framework. Here's how it applies to a game:\n",
    "\n",
    "Asset Management: The preload function ensures that all necessary assets (like images) are loaded before the game starts. This prevents issues where assets are missing or not loaded in time.\n",
    "Game Scene Setup: The create function sets up the initial state of the game scene by adding sprites or other game objects. In this example, it adds a diamond sprite to the game at a specific position.\n",
    "Configuration and Initialization: The config object and game initialization ensure that the game runs with the correct settings, such as the renderer type and canvas size, providing a smooth gaming experience.\n"
   ]
  },
  {
   "cell_type": "code",
   "execution_count": null,
   "metadata": {
    "vscode": {
     "languageId": "typescript"
    }
   },
   "outputs": [],
   "source": [
    "import GameEnv from './GameEnv.js';\n",
    "import GameObject from './GameObject.js';\n",
    "\n",
    "export class Diamond extends GameObject {\n",
    "    constructor(canvas, image) {\n",
    "        super(canvas, image, 0);\n",
    "        // Set the initial position and size\n",
    "        this.size();\n",
    "    }\n",
    "\n",
    "    // Required, but no update action\n",
    "    update() {\n",
    "    }\n",
    "\n",
    "    // Draw position is always 0,0\n",
    "    draw() {\n",
    "        // Save the current transformation matrix\n",
    "        this.ctx.save();\n",
    "\n",
    "        // Rotate the canvas 90 degrees to the left\n",
    "        this.ctx.rotate(-Math.PI / 2);\n",
    "\n",
    "        // Draw the image at the rotated position (swap x and y)\n",
    "        this.ctx.drawImage(this.image, -this.image.height, 0);\n",
    "\n",
    "        // Restore the original transformation matrix\n",
    "        this.ctx.restore();\n",
    "    }\n",
    "\n",
    "    // Center and set Diamond position with adjustable height and width\n",
    "    size() {\n",
    "        // Make the image 10 times smaller\n",
    "        const scaledWidth = this.image.width * 0.2;\n",
    "        const scaledHeight = this.image.height * 0.169;\n",
    "\n",
    "        // Center the object on the screen\n",
    "        const randomPosition = Math.random() < 0.5; // Randomly choose between two positions\n",
    "\n",
    "        let diamondX, diamondY;\n",
    "\n",
    "        if (randomPosition) {\n",
    "            diamondX = (GameEnv.innerWidth - scaledWidth) / 2.5;\n",
    "            diamondY = (GameEnv.innerHeight - scaledHeight) / 1.01;\n",
    "        } else {\n",
    "            diamondX = (GameEnv.innerWidth - scaledWidth) / 7.5;\n",
    "            diamondY = (GameEnv.innerHeight - scaledHeight) / 2.02;\n",
    "        }\n",
    "\n",
    "        // Set variables used in Display and Collision algorithms\n",
    "        this.bottom = diamondY + scaledHeight;\n",
    "        this.collisionHeight = scaledHeight;\n",
    "        this.collisionWidth = scaledWidth;\n",
    "\n",
    "        this.canvas.style.width = `${scaledWidth}px`;\n",
    "        this.canvas.style.height = `${scaledHeight}px`;\n",
    "        this.canvas.style.position = 'absolute';\n",
    "        this.canvas.style.left = `${diamondX}px`;\n",
    "        this.canvas.style.top = `${diamondY}px`;\n",
    "    }\n",
    "}\n",
    "\n",
    "export default Diamond;"
   ]
  },
  {
   "cell_type": "markdown",
   "metadata": {},
   "source": [
    "This is the class I was talking about as this calls the intization for the game to call on the diamonds.png so the picture shows up and if you want use this use it but, we might have diffrent heights so change it to your liking "
   ]
  },
  {
   "cell_type": "markdown",
   "metadata": {},
   "source": [
    "## <span style=\"color: pink; text-shadow: 2px 2px 5px red;\">Application Popcorn Hack </span>\n",
    "I want everyone to apply these constructors in your game and create your own class for your level and hope this lesson helps you understand this cause this takes time to learn so coding is journey not a destination"
   ]
  }
 ],
 "metadata": {
  "kernelspec": {
   "display_name": "Python 3",
   "language": "python",
   "name": "python3"
  },
  "language_info": {
   "codemirror_mode": {
    "name": "ipython",
    "version": 3
   },
   "file_extension": ".py",
   "mimetype": "text/x-python",
   "name": "python",
   "nbconvert_exporter": "python",
   "pygments_lexer": "ipython3",
   "version": "3.12.3"
  }
 },
 "nbformat": 4,
 "nbformat_minor": 2
}
