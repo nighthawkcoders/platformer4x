{
 "cells": [
  {
   "cell_type": "code",
   "execution_count": null,
   "metadata": {
    "vscode": {
     "languageId": "yaml"
    }
   },
   "outputs": [],
   "source": [
    "---\n",
    "layout: post\n",
    "title: Player, Animation, and Collisons (PAC)\n",
    "author: Aditya Srivastrava \n",
    "description: How does PAC really work?\n",
    "permalink: /player_animation_collison/PAC\n",
    "toc: true\n",
    "---"
   ]
  }
 ],
 "metadata": {
  "language_info": {
   "name": "python"
  }
 },
 "nbformat": 4,
 "nbformat_minor": 2
}
