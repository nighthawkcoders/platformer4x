{
 "cells": [
  {
   "cell_type": "code",
   "execution_count": null,
   "metadata": {
    "vscode": {
     "languageId": "yaml"
    }
   },
   "outputs": [],
   "source": [
    "---\n",
    "layout: post\n",
    "title: Player, Animation, and Collisons (PAC)\n",
    "author: Aditya Srivastava \n",
    "description: How does PAC really work?\n",
    "permalink: /player_animation_collison/PAC\n",
    "toc: true\n",
    "---"
   ]
  },
  {
   "cell_type": "markdown",
   "metadata": {},
   "source": [
    "# What is animation: \n",
    "Animating is the process of creating the illusion of movement by displaying a sequendce of images or frames. This is important to our game and many other games because this is how our characters appear to be walking and jumping. Here is an example:"
   ]
  },
  {
   "cell_type": "markdown",
   "metadata": {
    "vscode": {
     "languageId": "yaml"
    }
   },
   "source": [
    "![Image Description](https://encrypted-tbn0.gstatic.com/images?q=tbn:ANd9GcRWKlmwdjgWq7yCxuEGoBFMlyS1tYSbEzjw2Q&s)\n"
   ]
  },
  {
   "cell_type": "markdown",
   "metadata": {
    "vscode": {
     "languageId": "yaml"
    }
   },
   "source": [
    "# How Do We Animate in Our Game?\n",
    "\n",
    "In our game, all characters across levels use **sprite sheets** for animation. A **sprite sheet** is a large image containing a grid of smaller images (frames), each showing the character in a slightly different pose. These frames are displayed in rapid succession to create smooth animations for actions like walking, jumping, or attacking.\n",
    "\n",
    "Each frame represents a character from different angles or performing specific actions, with slight variations between frames to create the illusion of movement.\n",
    "\n",
    "Here's an example of what a sprite sheet might look like:\n",
    "\n",
    "- **Character Actions**: The sprite sheet contains frames for different actions (e.g., walking, jumping, attacking).\n",
    "- **Animation Flow**: The frames are shown in sequence to make the animation appear seamless and natural.\n",
    "  \n",
    "By cycling through the frames at the correct speed, we create fluid and continuous motion for the character in the game.\n",
    "\n",
    "### Example Sprite Sheet:\n",
    "(You can add your image or a link to an example sprite sheet here)\n",
    "\n",
    "### How It Works:\n",
    "1. **Loading the Sprite Sheet**: The game loads the sprite sheet, breaking it into individual frames.\n",
    "2. **Animation Timing**: Each frame is displayed for a brief period before moving to the next one, based on the animation's frame rate.\n",
    "3. **Smooth Transitions**: By repeating this process continuously, the character's animation looks smooth and lifelike.\n",
    "\n",
    "This technique helps bring our characters to life and gives the game its dynamic feel!\n"
   ]
  },
  {
   "cell_type": "markdown",
   "metadata": {},
   "source": [
    "![Image Description](https://nighthawkcoders.github.io/portfolio_2025/images/platformer/sprites/lopezanimation.png)"
   ]
  }
 ],
 "metadata": {
  "language_info": {
   "name": "python"
  }
 },
 "nbformat": 4,
 "nbformat_minor": 2
}
