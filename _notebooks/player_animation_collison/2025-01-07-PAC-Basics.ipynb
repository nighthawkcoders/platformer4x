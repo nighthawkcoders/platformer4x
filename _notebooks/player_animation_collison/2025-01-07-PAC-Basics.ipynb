{
 "cells": [
  {
   "cell_type": "raw",
   "metadata": {
    "vscode": {
     "languageId": "raw"
    }
   },
   "source": [
    "---\n",
    "layout: post\n",
    "title: Player, Animation, and Collisons (PAC)\n",
    "author: Aaryav Lal\n",
    "description: How does PAC really work?\n",
    "permalink: player_animation_collison/PAC\n",
    "toc: true\n",
    "---"
   ]
  },
  {
   "cell_type": "markdown",
   "metadata": {},
   "source": [
    "# Game Development Overview\n",
    "\n",
    "In game development, three core components often involved in creating interactive experiences are **Player**, **Animation**, and **Collision**. Understanding these components is crucial to building a functional game. Let's break them down:\n",
    "\n",
    "## 1. Player\n",
    "\n",
    "The **Player** is typically the entity that the user controls within the game. It can represent a character, vehicle, or object, and the player's actions often define the core gameplay. Key aspects include:\n",
    "\n",
    "- **Movement**: The player can be moved using input controls like keyboard, mouse, or game controllers.\n",
    "- **Attributes**: Players often have specific attributes like health, speed, or strength.\n",
    "- **Interaction**: The player interacts with the game world by collecting items, fighting enemies, or completing objectives.\n",
    "\n",
    "### Example:\n",
    "```python\n",
    "class Player:\n",
    "    def __init__(self, x: float, y: float, speed: float = 5.0):\n",
    "        \"\"\"\n",
    "        Initialize the player at position (x, y) with a default movement speed.\n",
    "        \n",
    "        Parameters:\n",
    "        x (float): The player's starting x-coordinate.\n",
    "        y (float): The player's starting y-coordinate.\n",
    "        speed (float): The player's movement speed. Defaults to 5.\n",
    "        \"\"\"\n",
    "        self.x = x\n",
    "        self.y = y\n",
    "        self.speed = speed\n",
    "\n",
    "    def move(self, dx: float, dy: float):\n",
    "        \"\"\"\n",
    "        Move the player based on input direction (dx, dy) and speed.\n",
    "\n",
    "        Parameters:\n",
    "        dx (float): The change in the x-direction.\n",
    "        dy (float): The change in the y-direction.\n",
    "        \"\"\"\n",
    "        self.x += dx * self.speed\n",
    "        self.y += dy * self.speed\n",
    "\n",
    "    def get_position(self) -> tuple:\n",
    "        \"\"\"\n",
    "        Get the current position of the player as a tuple (x, y).\n",
    "\n",
    "        Returns:\n",
    "        tuple: The player's current position.\n",
    "        \"\"\"\n",
    "        return self.x, self.y\n"
   ]
  },
  {
   "cell_type": "markdown",
   "metadata": {},
   "source": [
    "## 2. Animation\n",
    "\n",
    "**Animation** is what brings the game world to life by providing movement or visual changes to the game’s elements. This involves changing the appearance or position of sprites over time to simulate movement or transitions. \n",
    "\n",
    "Key concepts in animation include:\n",
    "\n",
    "- **Frames**: Animation is typically composed of individual images called frames. When shown in sequence, they create the illusion of motion.\n",
    "- **Frame Rate**: The speed at which frames are displayed, usually measured in frames per second (FPS). A higher FPS makes animations smoother.\n",
    "- **Sprites**: These are 2D images or 3D models that are animated within the game.\n",
    "- **Tweening**: Short for \"in-betweening\", this is the process of generating intermediate frames between two keyframes, providing a smooth transition.\n",
    "\n",
    "### Example:\n",
    "```python\n",
    "class Animation:\n",
    "    def __init__(self, frames, frame_rate):\n",
    "        self.frames = frames\n",
    "        self.frame_rate = frame_rate\n",
    "        self.current_frame = 0\n",
    "        self.elapsed_time = 0\n",
    "\n",
    "    def update(self, delta_time):\n",
    "        self.elapsed_time += delta_time\n",
    "        if self.elapsed_time > 1 / self.frame_rate:\n",
    "            self.current_frame = (self.current_frame + 1) % len(self.frames)\n",
    "            self.elapsed_time = 0\n"
   ]
  },
  {
   "cell_type": "markdown",
   "metadata": {},
   "source": [
    "## 3. Collision\n",
    "\n",
    "**Collision** detection is crucial in games to determine when objects or characters interact with each other. It allows the game to respond to events like a player hitting an obstacle, picking up an item, or attacking an enemy.\n",
    "\n",
    "Key concepts in collision include:\n",
    "\n",
    "- **Bounding Box**: The simplest method of collision detection, where each object is enclosed in a rectangular or circular boundary. If these boundaries overlap, a collision is detected.\n",
    "- **Pixel-Perfect Collision**: A more precise method of detection where the individual pixels of two objects are compared. This ensures more accurate detection but is computationally more expensive.\n",
    "- **Collision Response**: Once a collision is detected, the game must decide how to respond, whether stopping movement, bouncing off surfaces, triggering damage, or generating game events.\n",
    "\n",
    "### Example:\n",
    "```python\n",
    "class Collision:\n",
    "    @staticmethod\n",
    "    def check_collision(rect1, rect2):\n",
    "        \"\"\"\n",
    "        Check for a collision between two rectangular objects.\n",
    "        \n",
    "        Parameters:\n",
    "        rect1: The first rectangle with attributes x, y, width, and height.\n",
    "        rect2: The second rectangle with attributes x, y, width, and height.\n",
    "\n",
    "        Returns:\n",
    "        bool: True if the rectangles are colliding, False otherwise.\n",
    "        \"\"\"\n",
    "        return (\n",
    "            rect1.x < rect2.x + rect2.width and\n",
    "            rect1.x + rect1.width > rect2.x and\n",
    "            rect1.y < rect2.y + rect2.height and\n",
    "            rect1.y + rect1.height > rect2.y\n",
    "        )\n"
   ]
  }
 ],
 "metadata": {
  "kernelspec": {
   "display_name": "Python 3",
   "language": "python",
   "name": "python3"
  },
  "language_info": {
   "name": "python",
   "version": "3.12.3"
  }
 },
 "nbformat": 4,
 "nbformat_minor": 2
}
