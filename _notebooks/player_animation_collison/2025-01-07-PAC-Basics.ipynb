{
 "cells": [
  {
   "cell_type": "code",
   "execution_count": null,
   "metadata": {
    "vscode": {
     "languageId": "yaml"
    }
   },
   "outputs": [],
   "source": [
    "---\n",
    "layout: post\n",
    "title: Player, Animation, and Collisons (PAC)\n",
    "author: Aaryav Lal\n",
    "description: How does PAC really work?\n",
    "permalink: /player_animation_collison/PAC\n",
    "toc: true\n",
    "---"
   ]
  },
  {
   "cell_type": "markdown",
   "metadata": {},
   "source": [
    "# Game Development Overview\n",
    "\n",
    "In game development, three core components often involved in creating interactive experiences are **Player**, **Animation**, and **Collision**. Understanding these components is crucial to building a functional game. Let's break them down:\n",
    "\n",
    "## 1. Player\n",
    "\n",
    "The **Player** is typically the entity that the user controls within the game. It can represent a character, vehicle, or object, and the player's actions often define the core gameplay. Key aspects include:\n",
    "\n",
    "- **Movement**: The player can be moved using input controls like keyboard, mouse, or game controllers.\n",
    "- **Attributes**: Players often have specific attributes like health, speed, or strength.\n",
    "- **Interaction**: The player interacts with the game world by collecting items, fighting enemies, or completing objectives.\n",
    "\n",
    "### Example:\n",
    "```python\n",
    "class Player:\n",
    "    def __init__(self, x, y):\n",
    "        self.x = x\n",
    "        self.y = y\n",
    "        self.speed = 5\n",
    "\n",
    "    def move(self, dx, dy):\n",
    "        self.x += dx * self.speed\n",
    "        self.y += dy * self.speed\n"
   ]
  },
  {
   "cell_type": "markdown",
   "metadata": {},
   "source": [
    "## 2. Animation\n",
    "\n",
    "**Animation** is what brings the game world to life by providing movement or visual changes to the game’s elements. This involves changing the appearance or position of sprites over time to simulate movement or transitions. \n",
    "\n",
    "Key concepts in animation include:\n",
    "\n",
    "- **Frames**: Animation is typically composed of individual images called frames. When shown in sequence, they create the illusion of motion.\n",
    "- **Frame Rate**: The speed at which frames are displayed, usually measured in frames per second (FPS). A higher FPS makes animations smoother.\n",
    "- **Sprites**: These are 2D images or 3D models that are animated within the game.\n",
    "- **Tweening**: Short for \"in-betweening\", this is the process of generating intermediate frames between two keyframes, providing a smooth transition.\n",
    "\n",
    "### Example:\n",
    "```python\n",
    "class Animation:\n",
    "    def __init__(self, frames, frame_rate):\n",
    "        self.frames = frames\n",
    "        self.frame_rate = frame_rate\n",
    "        self.current_frame = 0\n",
    "        self.elapsed_time = 0\n",
    "\n",
    "    def update(self, delta_time):\n",
    "        self.elapsed_time += delta_time\n",
    "        if self.elapsed_time > 1 / self.frame_rate:\n",
    "            self.current_frame = (self.current_frame + 1) % len(self.frames)\n",
    "            self.elapsed_time = 0\n"
   ]
  },
  {
   "cell_type": "markdown",
   "metadata": {},
   "source": [
    "## 3. Collision\n",
    "\n",
    "**Collision** detection is crucial in games to determine when objects or characters interact with each other. It allows the game to respond to events like a player hitting an obstacle, picking up an item, or attacking an enemy.\n",
    "\n",
    "Key concepts in collision include:\n",
    "\n",
    "- **Bounding Box**: The simplest method of collision detection, where each object is enclosed in a box (rectangular or circular). If the boxes overlap, a collision has occurred.\n",
    "- **Pixel-Perfect Collision**: A more precise form of detection that checks for overlapping pixels of two sprites, ensuring more accurate collisions but at a higher computational cost.\n",
    "- **Collision Response**: Once a collision is detected, the game decides how to respond (e.g., stop movement, bounce off surfaces, or trigger a game event).\n",
    "\n",
    "### Example:\n",
    "```python\n",
    "class Collision:\n",
    "    @staticmethod\n",
    "    def check_collision(rect1, rect2):\n",
    "        return (\n",
    "            rect1.x < rect2.x + rect2.width and\n",
    "            rect1.x + rect1.width > rect2.x and\n",
    "            rect1.y < rect2.y + rect2.height and\n",
    "            rect1.y + rect1.height > rect2.y\n",
    "        )\n"
   ]
  }
 ],
 "metadata": {
  "language_info": {
   "name": "python"
  }
 },
 "nbformat": 4,
 "nbformat_minor": 2
}
